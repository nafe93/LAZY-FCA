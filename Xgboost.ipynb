{
 "cells": [
  {
   "cell_type": "code",
   "execution_count": 1,
   "metadata": {},
   "outputs": [],
   "source": [
    "import pandas as pd\n",
    "import numpy as np\n",
    "import xgboost as xgb\n",
    "\n",
    "from xgboost import XGBClassifier\n",
    "from sklearn.model_selection import train_test_split\n",
    "from sklearn.metrics import accuracy_score"
   ]
  },
  {
   "cell_type": "code",
   "execution_count": 2,
   "metadata": {},
   "outputs": [],
   "source": [
    "# load data\n",
    "dataset = pd.read_csv('data/train2.csv')\n",
    "# split data into X and y\n",
    "x_train = np.array(dataset)\n",
    "x_train = np.delete(x_train, 5, axis=1)\n",
    "y_train = np.array(dataset['common_flares'])"
   ]
  },
  {
   "cell_type": "code",
   "execution_count": 3,
   "metadata": {},
   "outputs": [],
   "source": [
    "# load data\n",
    "dataset2 = pd.read_csv('data/test2.csv')\n",
    "# split data into X and y\n",
    "x_test = np.array(dataset2)\n",
    "x_test = np.delete(x_test, 5, axis=1)\n",
    "y_test = np.array(dataset2['common_flares'])"
   ]
  },
  {
   "cell_type": "code",
   "execution_count": 19,
   "metadata": {},
   "outputs": [
    {
     "name": "stdout",
     "output_type": "stream",
     "text": [
      "[21:42:43] 316x25 matrix with 8843 entries loaded from data/train2.csv\n",
      "[21:42:43] 174x25 matrix with 4867 entries loaded from data/test2.csv\n",
      "TP : 29 | TN : 111\n",
      "TP : 30 | TN : 3\n",
      "Accuracy  is  : 34.104046242774565%\n",
      "Precision is  : 20.714285714285715%\n",
      "Recall    is  : 90.625%\n",
      "f1        is  : 33.720930232558146%\n"
     ]
    }
   ],
   "source": [
    "# read in data\n",
    "dtrain = xgb.DMatrix('data/train2.csv')\n",
    "dtest = xgb.DMatrix('data/test2.csv')\n",
    "# specify parameters via map\n",
    "param = {'max_depth':2, 'eta':4, 'objective':'binary:logistic' }\n",
    "num_round = 2\n",
    "bst = xgb.train(param, dtrain, num_round)\n",
    "# make prediction\n",
    "preds = bst.predict(dtest)\n",
    "predictions = [round(value) for value in preds]\n",
    "predictions = predictions[0:-1]\n",
    "\n",
    "TP = 0\n",
    "TN = 0\n",
    "FP = 0\n",
    "FN = 0\n",
    "\n",
    "for i in range(len(predictions)):\n",
    "    if predictions[i] == 1:\n",
    "        if predictions[i] == y_test[i]:\n",
    "            TP += 1\n",
    "        else:\n",
    "            FP += 1\n",
    "            \n",
    "    if predictions[i] == 0:\n",
    "        if predictions[i] == y_test[i]:\n",
    "            TN += 1\n",
    "        else:\n",
    "            FN += 1\n",
    "\n",
    "print(f\"TP : {TP} | TN : {FP}\")\n",
    "print(f\"TP : {TN} | TN : {FN}\")\n",
    "\n",
    "accuracy  = accuracy_score(y_test, predictions)\n",
    "precision = (TP) / (TP + FP)\n",
    "recall    = (TP) / (TP+FN)\n",
    "F         = 2 * ((precision * recall) / (precision + recall))\n",
    "\n",
    "print(f\"Accuracy  is  : {accuracy  * 100}%\")\n",
    "print(f\"Precision is  : {precision * 100}%\")\n",
    "print(f\"Recall    is  : {recall * 100}%\")\n",
    "print(f\"f1        is  : {F * 100}%\")"
   ]
  },
  {
   "cell_type": "code",
   "execution_count": null,
   "metadata": {},
   "outputs": [],
   "source": []
  }
 ],
 "metadata": {
  "kernelspec": {
   "display_name": "Python 3",
   "language": "python",
   "name": "python3"
  },
  "language_info": {
   "codemirror_mode": {
    "name": "ipython",
    "version": 3
   },
   "file_extension": ".py",
   "mimetype": "text/x-python",
   "name": "python",
   "nbconvert_exporter": "python",
   "pygments_lexer": "ipython3",
   "version": "3.7.3"
  }
 },
 "nbformat": 4,
 "nbformat_minor": 2
}
