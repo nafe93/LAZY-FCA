{
 "cells": [
  {
   "cell_type": "markdown",
   "metadata": {},
   "source": [
    "# FCA"
   ]
  },
  {
   "cell_type": "code",
   "execution_count": 1,
   "metadata": {},
   "outputs": [],
   "source": [
    "import numpy as np\n",
    "import pandas as pd\n",
    "%run LAZY_FCA.ipynb"
   ]
  },
  {
   "cell_type": "code",
   "execution_count": 10,
   "metadata": {
    "scrolled": true
   },
   "outputs": [
    {
     "name": "stdout",
     "output_type": "stream",
     "text": [
      "The train shape is:  (315, 29)\n",
      "Positive is:  (110, 29)\n",
      "Negative is:  (205, 29)\n"
     ]
    }
   ],
   "source": [
    "train          = pd.read_csv('data/train.csv')\n",
    "train_positive = train[train['common_flares'] == 1]\n",
    "train_negative = train[train['common_flares'] == 2]\n",
    "print(\"The train shape is: \", train.shape)\n",
    "print(\"Positive is: \", train_positive.shape)\n",
    "print(\"Negative is: \", train_negative.shape)\n",
    "\n",
    "train_positive = np.array(train_positive)\n",
    "train_negative = np.array(train_negative)"
   ]
  },
  {
   "cell_type": "code",
   "execution_count": 3,
   "metadata": {
    "scrolled": true
   },
   "outputs": [
    {
     "name": "stdout",
     "output_type": "stream",
     "text": [
      "The test shape is:  (173, 29)\n",
      "Positive is:  (32, 29)\n",
      "Negative is:  (141, 29)\n"
     ]
    }
   ],
   "source": [
    "test          = pd.read_csv('data/test.csv')\n",
    "test_positive = test[test['common_flares'] == 1]\n",
    "test_negative = test[test['common_flares'] == 2]\n",
    "print(\"The test shape is: \", test.shape)\n",
    "print(\"Positive is: \", test_positive.shape)\n",
    "print(\"Negative is: \", test_negative.shape)"
   ]
  },
  {
   "cell_type": "code",
   "execution_count": 4,
   "metadata": {},
   "outputs": [],
   "source": [
    "fca = FCA(0)"
   ]
  },
  {
   "cell_type": "code",
   "execution_count": 5,
   "metadata": {},
   "outputs": [],
   "source": [
    "guess = []"
   ]
  },
  {
   "cell_type": "code",
   "execution_count": 6,
   "metadata": {},
   "outputs": [],
   "source": [
    "my_test = np.array(test)\n",
    "for i in my_test[:5]:\n",
    "    cf = i[5]\n",
    "    i = np.array([i])\n",
    "    guess.append([fca.fca(i, train_positive, train_negative), cf])"
   ]
  },
  {
   "cell_type": "code",
   "execution_count": 7,
   "metadata": {},
   "outputs": [],
   "source": [
    "for index in range(len(guess)):\n",
    "     if guess[index][1] == 1:\n",
    "        if guess[index][0][0] >= 50:\n",
    "            guess[index].append(1)\n",
    "        else:\n",
    "            guess[index].append(0)\n",
    "    \n",
    "     if guess[index][1] == 2:\n",
    "        if guess[index][0][1] >= 50:\n",
    "            guess[index].append(2)\n",
    "        else:\n",
    "            guess[index].append(0)"
   ]
  },
  {
   "cell_type": "code",
   "execution_count": 8,
   "metadata": {},
   "outputs": [
    {
     "data": {
      "text/plain": [
       "[[(54.285714285714285, 45.714285714285715), 2, 0],\n",
       " [(50.15873015873016, 49.84126984126984), 2, 0],\n",
       " [(49.2063492063492, 50.79365079365079), 2, 2],\n",
       " [(47.3015873015873, 52.6984126984127), 2, 2],\n",
       " [(51.746031746031754, 48.25396825396825), 2, 0]]"
      ]
     },
     "execution_count": 8,
     "metadata": {},
     "output_type": "execute_result"
    }
   ],
   "source": [
    "guess"
   ]
  },
  {
   "cell_type": "code",
   "execution_count": null,
   "metadata": {},
   "outputs": [],
   "source": []
  }
 ],
 "metadata": {
  "kernelspec": {
   "display_name": "Python 3",
   "language": "python",
   "name": "python3"
  },
  "language_info": {
   "codemirror_mode": {
    "name": "ipython",
    "version": 3
   },
   "file_extension": ".py",
   "mimetype": "text/x-python",
   "name": "python",
   "nbconvert_exporter": "python",
   "pygments_lexer": "ipython3",
   "version": "3.7.3"
  }
 },
 "nbformat": 4,
 "nbformat_minor": 2
}
