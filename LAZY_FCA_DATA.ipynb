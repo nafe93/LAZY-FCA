{
 "cells": [
  {
   "cell_type": "markdown",
   "metadata": {},
   "source": [
    "# FCA"
   ]
  },
  {
   "cell_type": "code",
   "execution_count": 1,
   "metadata": {},
   "outputs": [],
   "source": [
    "import numpy as np\n",
    "import pandas as pd\n",
    "%run LAZY_FCA.ipynb"
   ]
  },
  {
   "cell_type": "code",
   "execution_count": 2,
   "metadata": {},
   "outputs": [
    {
     "name": "stdout",
     "output_type": "stream",
     "text": [
      "The train shape is:  (315, 29)\n",
      "Positive is:  (110, 29)\n",
      "Negative is:  (205, 29)\n"
     ]
    }
   ],
   "source": [
    "train          = pd.read_csv('data/train.csv')\n",
    "train_positive = train[train['common_flares'] == 1]\n",
    "train_negative = train[train['common_flares'] == 2]\n",
    "print(\"The train shape is: \", train.shape)\n",
    "print(\"Positive is: \", train_positive.shape)\n",
    "print(\"Negative is: \", train_negative.shape)"
   ]
  },
  {
   "cell_type": "code",
   "execution_count": 3,
   "metadata": {},
   "outputs": [
    {
     "name": "stdout",
     "output_type": "stream",
     "text": [
      "The test shape is:  (173, 29)\n",
      "Positive is:  (32, 29)\n",
      "Negative is:  (141, 29)\n"
     ]
    }
   ],
   "source": [
    "test          = pd.read_csv('data/test.csv')\n",
    "test_positive = test[test['common_flares'] == 1]\n",
    "test_negative = test[test['common_flares'] == 2]\n",
    "print(\"The test shape is: \", test.shape)\n",
    "print(\"Positive is: \", test_positive.shape)\n",
    "print(\"Negative is: \", test_negative.shape)"
   ]
  },
  {
   "cell_type": "code",
   "execution_count": 8,
   "metadata": {},
   "outputs": [],
   "source": [
    "my_test = np.array(test_positive)"
   ]
  },
  {
   "cell_type": "code",
   "execution_count": 5,
   "metadata": {},
   "outputs": [],
   "source": [
    "fca = FCA(0)"
   ]
  },
  {
   "cell_type": "code",
   "execution_count": 15,
   "metadata": {},
   "outputs": [
    {
     "name": "stdout",
     "output_type": "stream",
     "text": [
      "(61.26984126984127, 38.730158730158735)\n",
      "(66.34920634920634, 33.65079365079365)\n",
      "(63.8095238095238, 36.19047619047619)\n",
      "(58.0952380952381, 41.904761904761905)\n",
      "(73.96825396825398, 26.031746031746035)\n",
      "(62.22222222222222, 37.77777777777778)\n",
      "(53.333333333333336, 46.666666666666664)\n",
      "(69.2063492063492, 30.793650793650794)\n",
      "(54.285714285714285, 45.714285714285715)\n",
      "(57.77777777777777, 42.22222222222222)\n",
      "(65.71428571428571, 34.285714285714285)\n",
      "(62.857142857142854, 37.142857142857146)\n",
      "(64.44444444444444, 35.55555555555556)\n",
      "(47.61904761904761, 52.38095238095239)\n",
      "(35.87301587301587, 64.12698412698413)\n",
      "(66.66666666666666, 33.33333333333333)\n",
      "(57.14285714285714, 42.857142857142854)\n",
      "(62.857142857142854, 37.142857142857146)\n",
      "(61.904761904761905, 38.095238095238095)\n",
      "(64.76190476190476, 35.23809523809524)\n",
      "(46.666666666666664, 53.333333333333336)\n",
      "(54.285714285714285, 45.714285714285715)\n",
      "(58.730158730158735, 41.269841269841265)\n",
      "(73.33333333333333, 26.666666666666668)\n",
      "(62.53968253968254, 37.46031746031746)\n",
      "(51.42857142857142, 48.57142857142857)\n",
      "(73.65079365079366, 26.34920634920635)\n",
      "(76.5079365079365, 23.49206349206349)\n",
      "(76.82539682539684, 23.174603174603174)\n",
      "(70.15873015873015, 29.841269841269842)\n",
      "(80.0, 20.0)\n",
      "(92.06349206349206, 7.936507936507936)\n"
     ]
    }
   ],
   "source": [
    "train_positive = np.array(train_positive)\n",
    "train_negative = np.array(train_negative)\n",
    "for i in my_test:\n",
    "    i = np.array([i])\n",
    "    print(fca.fca(i, train_positive, train_negative))"
   ]
  },
  {
   "cell_type": "code",
   "execution_count": null,
   "metadata": {},
   "outputs": [],
   "source": [
    "my_test = np.array(test_negative)\n",
    "for i in my_test:\n",
    "    i = np.array([i])\n",
    "    print(fca.fca(i, train_positive, train_negative))"
   ]
  },
  {
   "cell_type": "code",
   "execution_count": null,
   "metadata": {},
   "outputs": [],
   "source": []
  }
 ],
 "metadata": {
  "kernelspec": {
   "display_name": "Python 3",
   "language": "python",
   "name": "python3"
  },
  "language_info": {
   "codemirror_mode": {
    "name": "ipython",
    "version": 3
   },
   "file_extension": ".py",
   "mimetype": "text/x-python",
   "name": "python",
   "nbconvert_exporter": "python",
   "pygments_lexer": "ipython3",
   "version": "3.7.3"
  }
 },
 "nbformat": 4,
 "nbformat_minor": 2
}
